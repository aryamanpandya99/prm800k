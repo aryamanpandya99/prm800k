{
 "cells": [
  {
   "cell_type": "code",
   "execution_count": 1,
   "metadata": {},
   "outputs": [],
   "source": [
    "import pandas as pd"
   ]
  },
  {
   "cell_type": "code",
   "execution_count": 3,
   "metadata": {},
   "outputs": [],
   "source": [
    "phase1_train = pd.read_json(\"../data/phase1_train.jsonl\", lines=True)"
   ]
  },
  {
   "cell_type": "code",
   "execution_count": 10,
   "metadata": {},
   "outputs": [
    {
     "data": {
      "text/html": [
       "<div>\n",
       "<style scoped>\n",
       "    .dataframe tbody tr th:only-of-type {\n",
       "        vertical-align: middle;\n",
       "    }\n",
       "\n",
       "    .dataframe tbody tr th {\n",
       "        vertical-align: top;\n",
       "    }\n",
       "\n",
       "    .dataframe thead th {\n",
       "        text-align: right;\n",
       "    }\n",
       "</style>\n",
       "<table border=\"1\" class=\"dataframe\">\n",
       "  <thead>\n",
       "    <tr style=\"text-align: right;\">\n",
       "      <th></th>\n",
       "      <th>question</th>\n",
       "      <th>label</th>\n",
       "    </tr>\n",
       "  </thead>\n",
       "  <tbody>\n",
       "    <tr>\n",
       "      <th>0</th>\n",
       "      <td>{'problem': 'How many seconds are in 7.8 minut...</td>\n",
       "      <td>{'steps': [{'completions': [{'text': '7.8 minu...</td>\n",
       "    </tr>\n",
       "    <tr>\n",
       "      <th>1</th>\n",
       "      <td>{'problem': 'How many positive two-digit integ...</td>\n",
       "      <td>{'steps': [{'completions': [{'text': \"Let's ca...</td>\n",
       "    </tr>\n",
       "    <tr>\n",
       "      <th>2</th>\n",
       "      <td>{'problem': 'The fifth and eighth terms of a g...</td>\n",
       "      <td>{'steps': [{'completions': [{'text': 'So we ha...</td>\n",
       "    </tr>\n",
       "    <tr>\n",
       "      <th>3</th>\n",
       "      <td>{'problem': 'Find the value of $x$ that satisf...</td>\n",
       "      <td>{'steps': [{'completions': [{'text': \"Let's fi...</td>\n",
       "    </tr>\n",
       "    <tr>\n",
       "      <th>4</th>\n",
       "      <td>{'problem': 'What is the least three-digit who...</td>\n",
       "      <td>{'steps': [{'completions': [{'text': 'So we wa...</td>\n",
       "    </tr>\n",
       "  </tbody>\n",
       "</table>\n",
       "</div>"
      ],
      "text/plain": [
       "                                            question  \\\n",
       "0  {'problem': 'How many seconds are in 7.8 minut...   \n",
       "1  {'problem': 'How many positive two-digit integ...   \n",
       "2  {'problem': 'The fifth and eighth terms of a g...   \n",
       "3  {'problem': 'Find the value of $x$ that satisf...   \n",
       "4  {'problem': 'What is the least three-digit who...   \n",
       "\n",
       "                                               label  \n",
       "0  {'steps': [{'completions': [{'text': '7.8 minu...  \n",
       "1  {'steps': [{'completions': [{'text': \"Let's ca...  \n",
       "2  {'steps': [{'completions': [{'text': 'So we ha...  \n",
       "3  {'steps': [{'completions': [{'text': \"Let's fi...  \n",
       "4  {'steps': [{'completions': [{'text': 'So we wa...  "
      ]
     },
     "execution_count": 10,
     "metadata": {},
     "output_type": "execute_result"
    }
   ],
   "source": [
    "data_only = phase1_train[[\"question\", \"label\"]]\n",
    "data_only.head()"
   ]
  },
  {
   "cell_type": "code",
   "execution_count": 17,
   "metadata": {},
   "outputs": [
    {
     "name": "stdout",
     "output_type": "stream",
     "text": [
      "(949, 2)\n"
     ]
    }
   ],
   "source": [
    "print(data_only.shape)\n"
   ]
  },
  {
   "cell_type": "code",
   "execution_count": 18,
   "metadata": {},
   "outputs": [
    {
     "name": "stdout",
     "output_type": "stream",
     "text": [
      "{'problem': 'How many seconds are in 7.8 minutes?', 'ground_truth_answer': '468'}\n"
     ]
    }
   ],
   "source": [
    "sample = data_only.iloc[0]\n",
    "print(sample[\"question\"])"
   ]
  },
  {
   "cell_type": "code",
   "execution_count": 22,
   "metadata": {},
   "outputs": [
    {
     "name": "stdout",
     "output_type": "stream",
     "text": [
      "{'steps': [{'completions': [{'text': '7.8 minutes is the same as 7 minutes and 0.8 minutes.', 'rating': 1, 'flagged': False}], 'human_completion': None, 'chosen_completion': 0}, {'completions': [{'text': 'Right, and since there are 60 seconds in a minute, then there are 60 * 7 = 420 seconds in 7 minutes.', 'rating': 1, 'flagged': False}], 'human_completion': None, 'chosen_completion': 0}, {'completions': [{'text': 'And since there are 60 seconds in a minute, then there are 60 * 0.8 = 48 seconds in 0.8 minutes.', 'rating': 1, 'flagged': False}], 'human_completion': None, 'chosen_completion': 0}, {'completions': [{'text': 'So, in total, there are 420 + 48 = 468 seconds in 7.8 minutes.', 'rating': 1, 'flagged': False}], 'human_completion': None, 'chosen_completion': 0}, {'completions': [{'text': \"Right. Let's check our work. 7.8 minutes is the same as 7 minutes and 0.8 minutes.\", 'rating': 0, 'flagged': False}, {'text': 'Exactly.\\n\\n# Answer\\n\\n468', 'rating': 1, 'flagged': False}, {'text': \"That's correct.\\n\\n# Answer\\n\\n468\", 'rating': 1, 'flagged': False}, {'text': 'Correct.\\n\\n# Answer\\n\\n468', 'rating': 1, 'flagged': False}, {'text': \"That's correct.\\n\\n# Answer\\n\\n468\", 'rating': 1, 'flagged': False}, {'text': 'Correct.\\n\\n# Answer\\n\\n468', 'rating': 1, 'flagged': False}, {'text': \"That's right!\\n\\n# Answer\\n\\n468\", 'rating': 1, 'flagged': False}], 'human_completion': None, 'chosen_completion': 1}], 'total_time': 92405, 'finish_reason': 'solution'}\n"
     ]
    }
   ],
   "source": [
    "print(sample[\"label\"])"
   ]
  },
  {
   "cell_type": "code",
   "execution_count": 27,
   "metadata": {},
   "outputs": [
    {
     "name": "stdout",
     "output_type": "stream",
     "text": [
      "7.8 minutes is the same as 7 minutes and 0.8 minutes.\n",
      "Rating: 1\n",
      "----------------------------------------------------------------------------------------------------\n",
      "Right, and since there are 60 seconds in a minute, then there are 60 * 7 = 420 seconds in 7 minutes.\n",
      "Rating: 1\n",
      "----------------------------------------------------------------------------------------------------\n",
      "And since there are 60 seconds in a minute, then there are 60 * 0.8 = 48 seconds in 0.8 minutes.\n",
      "Rating: 1\n",
      "----------------------------------------------------------------------------------------------------\n",
      "So, in total, there are 420 + 48 = 468 seconds in 7.8 minutes.\n",
      "Rating: 1\n",
      "----------------------------------------------------------------------------------------------------\n",
      "Right. Let's check our work. 7.8 minutes is the same as 7 minutes and 0.8 minutes.\n",
      "Rating: 0\n",
      "----------------------------------------------------------------------------------------------------\n"
     ]
    }
   ],
   "source": [
    "for step in sample[\"label\"][\"steps\"]:\n",
    "    print(f\"{step['completions'][0]['text']}\")\n",
    "    print(f\"Rating: {step['completions'][0]['rating']}\")\n",
    "    print(\"-\" * 10)"
   ]
  },
  {
   "cell_type": "code",
   "execution_count": 31,
   "metadata": {},
   "outputs": [
    {
     "data": {
      "text/plain": [
       "(97782, 7)"
      ]
     },
     "execution_count": 31,
     "metadata": {},
     "output_type": "execute_result"
    }
   ],
   "source": [
    "phase2_train_df = pd.read_json(\"../data/phase2_train.jsonl\", lines=True)\n",
    "phase2_train_df.shape"
   ]
  }
 ],
 "metadata": {
  "kernelspec": {
   "display_name": "fastai",
   "language": "python",
   "name": "python3"
  },
  "language_info": {
   "codemirror_mode": {
    "name": "ipython",
    "version": 3
   },
   "file_extension": ".py",
   "mimetype": "text/x-python",
   "name": "python",
   "nbconvert_exporter": "python",
   "pygments_lexer": "ipython3",
   "version": "3.10.14"
  }
 },
 "nbformat": 4,
 "nbformat_minor": 2
}
